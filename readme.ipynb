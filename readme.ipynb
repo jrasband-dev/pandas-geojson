{
 "cells": [
  {
   "cell_type": "markdown",
   "id": "5b34e100-19d4-4b68-8f2b-9eb88d3f758a",
   "metadata": {},
   "source": [
    "![](https://raw.githubusercontent.com/jrasband-dev/pandas-geojson/master/static/pandasgeojson.png)\n",
    "\n",
    "---\n",
    "![PyPI - Version](https://img.shields.io/pypi/v/pandas-geojson)\n",
    "![PyPI - Downloads](https://img.shields.io/pypi/dm/pandas-geojson)\n",
    "![PyPI - License](https://img.shields.io/pypi/l/pandas-geojson)\n",
    "![Libraries.io SourceRank](https://img.shields.io/librariesio/sourcerank/pypi/pandas-geojson)\n",
    "\n",
    "\n",
    "# Getting Started\n",
    "Install the latest version of pandas-geojson using pip.\n",
    "```\n",
    "pip install pandas-geojson\n",
    "```\n",
    "\n"
   ]
  },
  {
   "cell_type": "markdown",
   "id": "c271757b-e64f-4507-8f77-6224bfb20f74",
   "metadata": {
    "tags": []
   },
   "source": [
    "## Open GeoJSON Files\n",
    "Using the `read_geojson` function, you can easily read in GeoJSON data int the GeoJSON object. \n"
   ]
  },
  {
   "cell_type": "code",
   "execution_count": null,
   "id": "e77b6de0-137e-4359-ab80-038dabf57173",
   "metadata": {
    "tags": []
   },
   "outputs": [],
   "source": [
    "import pandas_geojson as pdg\n",
    "geojson = pdg.read_geojson('datasets/National_Obesity_By_State.geojson')\n",
    "type(geojson)"
   ]
  },
  {
   "cell_type": "markdown",
   "id": "e46bfaf7",
   "metadata": {},
   "source": [
    "## List Properties\n",
    "Pandas-GeoJSON utilizes properties to filter large geojson files. This functionallity helps you identify all of the properties in the geojson file so that you can choose a filter criteria. For more on filtering see [filter_geojson](#filter-geojson)"
   ]
  },
  {
   "cell_type": "code",
   "execution_count": null,
   "id": "0619ec4b",
   "metadata": {},
   "outputs": [],
   "source": [
    "geojson.get_properties()"
   ]
  },
  {
   "cell_type": "markdown",
   "id": "e79263bd-1245-43e7-adb0-e67bbc6d0f79",
   "metadata": {
    "tags": []
   },
   "source": [
    "## DataFrame to GeoJSON\n",
    "\n",
    "Pandas-GeoJSON makes it easy to convert a dataframe with coordinates into a GeoJSON object. Your DataFrame **must** contain at least two columns with the following information:\n",
    "* Geometry Type\n",
    "* Coodinates\n",
    "\n",
    "If you have properties in your DataFrame that you want to include, you can add those as well. If you don't have you own file, feel free to use the example csv file in the repo."
   ]
  },
  {
   "cell_type": "code",
   "execution_count": null,
   "id": "604c5290-92dc-423c-b6d9-8068f51f95ff",
   "metadata": {
    "tags": []
   },
   "outputs": [],
   "source": [
    "import pandas as pd\n",
    "import json\n",
    "csv = pd.read_csv('datasets/ObesityByState.csv')\n",
    "csv.head()"
   ]
  },
  {
   "cell_type": "code",
   "execution_count": null,
   "id": "99859b5e-b754-4bd0-8ca7-00d06cef0cdb",
   "metadata": {
    "tags": []
   },
   "outputs": [],
   "source": [
    "import pandas_geojson as pdg\n",
    "geojson = pdg.GeoJSON.from_dataframe(csv\n",
    "                                     ,geometry_type_col='type'\n",
    "                                     ,coordinate_col='coordinates'\n",
    "                                     ,property_col_list=['FID','NAME','Obesity']\n",
    "                                     )\n",
    "geojson"
   ]
  },
  {
   "cell_type": "markdown",
   "id": "0d9d9459-4e8a-4a09-9b96-3471c9d41af8",
   "metadata": {
    "tags": []
   },
   "source": [
    "## GeoJSON to DataFrame\n",
    "\n",
    "You can convert your GeoJSON object to a dataframe using the `to_dataframe` function. This will return a normalized dataframe of your GeoJSON data. From here you can manipulate, filter, and save your dataframe. "
   ]
  },
  {
   "cell_type": "code",
   "execution_count": null,
   "id": "468efc18-0af0-425a-a6e0-9e0ebec1603a",
   "metadata": {
    "tags": []
   },
   "outputs": [],
   "source": [
    "import pandas_geojson as pdg\n",
    "\n",
    "geojson = pdg.read_geojson('datasets/National_Obesity_By_State.geojson')\n",
    "df = geojson.to_dataframe()\n",
    "df.head()"
   ]
  },
  {
   "cell_type": "markdown",
   "id": "80f00ad0-f280-4b9d-bf60-152f5e390174",
   "metadata": {
    "tags": []
   },
   "source": [
    "## Filter GeoJSON\n",
    "GeoJSON files can be large and complex. Pandas-GeoJSON gives you the ability to filter geojson data. \n",
    "\n",
    "You can filter based on properties in the file. The `filter_geojson` function asks for a property key and a list of property values to filter on. The function will return a new GeoJSON object with only the values passed into the list. You can only use one property key at a time to filter. \n"
   ]
  },
  {
   "cell_type": "code",
   "execution_count": null,
   "id": "9f2f6cf0-4e11-43f6-ad84-7197c53e57cf",
   "metadata": {
    "tags": []
   },
   "outputs": [],
   "source": [
    "import pandas_geojson as pdg\n",
    "geojson = pdg.read_geojson('datasets/National_Obesity_By_State.geojson')\n",
    "properties = geojson.get_properties()\n",
    "properties\n"
   ]
  },
  {
   "cell_type": "code",
   "execution_count": null,
   "id": "d1437f5f",
   "metadata": {},
   "outputs": [],
   "source": [
    "new_geojson = geojson.filter_geojson(property_values=['Arizona'],property_key='NAME')\n",
    "new_geojson"
   ]
  },
  {
   "cell_type": "markdown",
   "id": "7107f000-6ade-4f77-981c-9f332d49d925",
   "metadata": {
    "tags": []
   },
   "source": [
    "## Export GeoJSON\n",
    "\n",
    "Once you've filtered your GeoJSON object you can easily export it as a new GeoJSON file using the `save_geojson` function. "
   ]
  },
  {
   "cell_type": "code",
   "execution_count": null,
   "id": "e13f9a66-24f0-4e56-989e-d56a838ef2b5",
   "metadata": {
    "tags": []
   },
   "outputs": [],
   "source": [
    "pdg.save_geojson(new_geojson,'Filtered.geojson',indent=4)"
   ]
  },
  {
   "cell_type": "markdown",
   "id": "8e1b3116-72d9-43a3-8efc-bd4ecc8e4346",
   "metadata": {},
   "source": [
    "## Creating GeoJSON\n",
    "\n",
    "How about creating a GeoJSON object from scratch? You can do this programmically through the package. Below is an example of how to create an empty GeoJSON object."
   ]
  },
  {
   "cell_type": "code",
   "execution_count": null,
   "id": "8dd2477a",
   "metadata": {},
   "outputs": [],
   "source": [
    "import pandas_geojson as pdg\n",
    "geojson = pdg.GeoJSON()\n",
    "geojson"
   ]
  },
  {
   "cell_type": "code",
   "execution_count": null,
   "id": "2eaade61",
   "metadata": {},
   "outputs": [],
   "source": [
    "from pandas_geojson.core import Point\n",
    "point = Point(geometry=[-105.63012379499997, 32.971263161000024],properties={'ID':1})\n",
    "point"
   ]
  },
  {
   "cell_type": "code",
   "execution_count": null,
   "id": "3afa485b",
   "metadata": {},
   "outputs": [],
   "source": [
    "from pandas_geojson.core import MultiPoint\n",
    "multipoint = MultiPoint(geometry=[[-105.63012379499997, 32.971263161000024], [-105.63012379499997, 32.971263161000024]])\n",
    "multipoint"
   ]
  },
  {
   "cell_type": "code",
   "execution_count": null,
   "id": "aa4cac87",
   "metadata": {},
   "outputs": [],
   "source": [
    "from pandas_geojson.core import LineString\n",
    "line = LineString(geometry=[[-105.63012379499997, 32.971263161000024],[-105.6,30.26]],properties={'ID':1})\n",
    "line\n"
   ]
  },
  {
   "cell_type": "code",
   "execution_count": null,
   "id": "4e555739",
   "metadata": {},
   "outputs": [],
   "source": [
    "from pandas_geojson.core import MultiLineString\n",
    "multiline = MultiLineString(geometry=[[[-73.989, 40.752], [-74.008, 40.722], [-73.985, 40.706]],[[-73.987, 40.754], [-73.981, 40.743], [-73.974, 40.735]]],properties={'ID':1})\n",
    "multiline "
   ]
  },
  {
   "cell_type": "code",
   "execution_count": null,
   "id": "4aad8cca",
   "metadata": {},
   "outputs": [],
   "source": [
    "from pandas_geojson.core import Polygon\n",
    "polygon = Polygon(geometry=[[-10.0, 10.0], [-10.0, -10.0], [10.0, -10.0], [10.0, 10.0], [-10.0, 10.0]]\n",
    "                    ,properties={'ID':1}\n",
    "                    )\n",
    "polygon "
   ]
  },
  {
   "cell_type": "code",
   "execution_count": 3,
   "id": "02c41621",
   "metadata": {},
   "outputs": [
    {
     "ename": "ValueError",
     "evalue": "Each ring in MultiPolygon must have at least four coordinates and be closed.",
     "output_type": "error",
     "traceback": [
      "\u001b[1;31m---------------------------------------------------------------------------\u001b[0m",
      "\u001b[1;31mValueError\u001b[0m                                Traceback (most recent call last)",
      "Cell \u001b[1;32mIn[3], line 2\u001b[0m\n\u001b[0;32m      1\u001b[0m \u001b[38;5;28;01mfrom\u001b[39;00m \u001b[38;5;21;01mpandas_geojson\u001b[39;00m\u001b[38;5;21;01m.\u001b[39;00m\u001b[38;5;21;01mcore\u001b[39;00m \u001b[38;5;28;01mimport\u001b[39;00m MultiPolygon\n\u001b[1;32m----> 2\u001b[0m multipolygon \u001b[38;5;241m=\u001b[39m \u001b[43mMultiPolygon\u001b[49m\u001b[43m(\u001b[49m\u001b[43mgeometry\u001b[49m\u001b[38;5;241;43m=\u001b[39;49m\u001b[43m[\u001b[49m\u001b[43m[\u001b[49m\u001b[43m[\u001b[49m\u001b[43m[\u001b[49m\u001b[38;5;241;43m-\u001b[39;49m\u001b[38;5;241;43m10.0\u001b[39;49m\u001b[43m,\u001b[49m\u001b[43m \u001b[49m\u001b[38;5;241;43m10.0\u001b[39;49m\u001b[43m]\u001b[49m\u001b[43m,\u001b[49m\u001b[43m \u001b[49m\u001b[43m[\u001b[49m\u001b[38;5;241;43m-\u001b[39;49m\u001b[38;5;241;43m10.0\u001b[39;49m\u001b[43m,\u001b[49m\u001b[43m \u001b[49m\u001b[38;5;241;43m-\u001b[39;49m\u001b[38;5;241;43m10.0\u001b[39;49m\u001b[43m]\u001b[49m\u001b[43m,\u001b[49m\u001b[43m \u001b[49m\u001b[43m[\u001b[49m\u001b[38;5;241;43m10.0\u001b[39;49m\u001b[43m,\u001b[49m\u001b[43m \u001b[49m\u001b[38;5;241;43m-\u001b[39;49m\u001b[38;5;241;43m10.0\u001b[39;49m\u001b[43m]\u001b[49m\u001b[43m,\u001b[49m\u001b[43m \u001b[49m\u001b[43m[\u001b[49m\u001b[38;5;241;43m10.0\u001b[39;49m\u001b[43m,\u001b[49m\u001b[43m \u001b[49m\u001b[38;5;241;43m10.0\u001b[39;49m\u001b[43m]\u001b[49m\u001b[43m,\u001b[49m\u001b[43m \u001b[49m\u001b[43m[\u001b[49m\u001b[38;5;241;43m-\u001b[39;49m\u001b[38;5;241;43m10.0\u001b[39;49m\u001b[43m,\u001b[49m\u001b[43m \u001b[49m\u001b[38;5;241;43m9\u001b[39;49m\u001b[43m]\u001b[49m\u001b[43m]\u001b[49m\u001b[43m]\u001b[49m\u001b[43m,\u001b[49m\u001b[43m[\u001b[49m\u001b[43m[\u001b[49m\u001b[43m[\u001b[49m\u001b[38;5;241;43m-\u001b[39;49m\u001b[38;5;241;43m20.0\u001b[39;49m\u001b[43m,\u001b[49m\u001b[43m \u001b[49m\u001b[38;5;241;43m20.0\u001b[39;49m\u001b[43m]\u001b[49m\u001b[43m,\u001b[49m\u001b[43m \u001b[49m\u001b[43m[\u001b[49m\u001b[38;5;241;43m-\u001b[39;49m\u001b[38;5;241;43m20.0\u001b[39;49m\u001b[43m,\u001b[49m\u001b[43m \u001b[49m\u001b[38;5;241;43m-\u001b[39;49m\u001b[38;5;241;43m20.0\u001b[39;49m\u001b[43m]\u001b[49m\u001b[43m,\u001b[49m\u001b[43m \u001b[49m\u001b[43m[\u001b[49m\u001b[38;5;241;43m20.0\u001b[39;49m\u001b[43m,\u001b[49m\u001b[43m \u001b[49m\u001b[38;5;241;43m-\u001b[39;49m\u001b[38;5;241;43m20.0\u001b[39;49m\u001b[43m]\u001b[49m\u001b[43m,\u001b[49m\u001b[43m \u001b[49m\u001b[43m[\u001b[49m\u001b[38;5;241;43m20.0\u001b[39;49m\u001b[43m,\u001b[49m\u001b[43m \u001b[49m\u001b[38;5;241;43m20.0\u001b[39;49m\u001b[43m]\u001b[49m\u001b[43m,\u001b[49m\u001b[43m[\u001b[49m\u001b[38;5;241;43m-\u001b[39;49m\u001b[38;5;241;43m20.0\u001b[39;49m\u001b[43m,\u001b[49m\u001b[43m \u001b[49m\u001b[38;5;241;43m20.0\u001b[39;49m\u001b[43m]\u001b[49m\u001b[43m]\u001b[49m\u001b[43m]\u001b[49m\u001b[43m]\u001b[49m\n\u001b[0;32m      3\u001b[0m \u001b[43m                    \u001b[49m\u001b[43m,\u001b[49m\u001b[43mproperties\u001b[49m\u001b[38;5;241;43m=\u001b[39;49m\u001b[43m{\u001b[49m\u001b[38;5;124;43m'\u001b[39;49m\u001b[38;5;124;43mID\u001b[39;49m\u001b[38;5;124;43m'\u001b[39;49m\u001b[43m:\u001b[49m\u001b[38;5;241;43m1\u001b[39;49m\u001b[43m}\u001b[49m\n\u001b[0;32m      4\u001b[0m \u001b[43m                    \u001b[49m\u001b[43m)\u001b[49m\n\u001b[0;32m      5\u001b[0m multipolygon\n",
      "File \u001b[1;32m<string>:6\u001b[0m, in \u001b[0;36m__init__\u001b[1;34m(self, type, geometry, properties)\u001b[0m\n",
      "File \u001b[1;32mc:\\Users\\jr2sw\\Desktop\\Repositories\\jrasband-dev\\pandas-geojson\\pandas_geojson\\core.py:164\u001b[0m, in \u001b[0;36mMultiPolygon.__post_init__\u001b[1;34m(self)\u001b[0m\n\u001b[0;32m    163\u001b[0m \u001b[38;5;28;01mdef\u001b[39;00m \u001b[38;5;21m__post_init__\u001b[39m(\u001b[38;5;28mself\u001b[39m):\n\u001b[1;32m--> 164\u001b[0m     \u001b[38;5;28;43mself\u001b[39;49m\u001b[38;5;241;43m.\u001b[39;49m\u001b[43mvalidate\u001b[49m\u001b[43m(\u001b[49m\u001b[43m)\u001b[49m\n",
      "File \u001b[1;32mc:\\Users\\jr2sw\\Desktop\\Repositories\\jrasband-dev\\pandas-geojson\\pandas_geojson\\core.py:184\u001b[0m, in \u001b[0;36mMultiPolygon.validate\u001b[1;34m(self)\u001b[0m\n\u001b[0;32m    182\u001b[0m \u001b[38;5;28;01mfor\u001b[39;00m ring \u001b[38;5;129;01min\u001b[39;00m polygon:\n\u001b[0;32m    183\u001b[0m     \u001b[38;5;28;01mif\u001b[39;00m \u001b[38;5;28mlen\u001b[39m(ring) \u001b[38;5;241m<\u001b[39m \u001b[38;5;241m4\u001b[39m \u001b[38;5;129;01mor\u001b[39;00m ring[\u001b[38;5;241m0\u001b[39m] \u001b[38;5;241m!=\u001b[39m ring[\u001b[38;5;241m-\u001b[39m\u001b[38;5;241m1\u001b[39m]:\n\u001b[1;32m--> 184\u001b[0m         \u001b[38;5;28;01mraise\u001b[39;00m \u001b[38;5;167;01mValueError\u001b[39;00m(\u001b[38;5;124m\"\u001b[39m\u001b[38;5;124mEach ring in MultiPolygon must have at least four coordinates and be closed.\u001b[39m\u001b[38;5;124m\"\u001b[39m)\n",
      "\u001b[1;31mValueError\u001b[0m: Each ring in MultiPolygon must have at least four coordinates and be closed."
     ]
    }
   ],
   "source": [
    "from pandas_geojson.core import MultiPolygon\n",
    "multipolygon = MultiPolygon(geometry=[[[[-10.0, 10.0], [-10.0, -10.0], [10.0, -10.0], [10.0, 10.0], [-10.0, 9]]],[[[-20.0, 20.0], [-20.0, -20.0], [20.0, -20.0], [20.0, 20.0],[-20.0, 20.0]]]]\n",
    "                    ,properties={'ID':1}\n",
    "                    )\n",
    "multipolygon"
   ]
  },
  {
   "cell_type": "markdown",
   "id": "f536286a-7e06-47bb-93c0-65e090782ab1",
   "metadata": {},
   "source": [
    "## Adding Features\n",
    "\n",
    "You can add features to a GeoJSON object in two ways:\n",
    "* `add_features`: allows you to add previously created Feature objects in bulk. \n",
    "* `add_feature`: allows you to add a single feature\n",
    "\n"
   ]
  },
  {
   "cell_type": "code",
   "execution_count": null,
   "id": "ae60a601",
   "metadata": {},
   "outputs": [],
   "source": [
    "geojson.add_features([point, multipoint,line, multipoint,polygon])\n",
    "geojson"
   ]
  },
  {
   "cell_type": "code",
   "execution_count": null,
   "id": "4386c269-6551-4224-b314-82088ef5dc91",
   "metadata": {
    "tags": []
   },
   "outputs": [],
   "source": [
    "geojson.add_feature(feature_type='Point',coordinates=[-105.63012379499997, 32.971263161000024],properties={'ID':1})\n",
    "geojson"
   ]
  },
  {
   "cell_type": "code",
   "execution_count": null,
   "id": "bb546b34",
   "metadata": {},
   "outputs": [],
   "source": []
  },
  {
   "cell_type": "code",
   "execution_count": null,
   "id": "c40a5621",
   "metadata": {},
   "outputs": [],
   "source": []
  }
 ],
 "metadata": {
  "kernelspec": {
   "display_name": "Python 3 (ipykernel)",
   "language": "python",
   "name": "python3"
  },
  "language_info": {
   "codemirror_mode": {
    "name": "ipython",
    "version": 3
   },
   "file_extension": ".py",
   "mimetype": "text/x-python",
   "name": "python",
   "nbconvert_exporter": "python",
   "pygments_lexer": "ipython3",
   "version": "3.11.4"
  }
 },
 "nbformat": 4,
 "nbformat_minor": 5
}
